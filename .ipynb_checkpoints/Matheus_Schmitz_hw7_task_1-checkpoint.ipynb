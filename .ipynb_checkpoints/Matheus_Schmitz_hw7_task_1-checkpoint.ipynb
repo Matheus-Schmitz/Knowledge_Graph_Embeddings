{
 "cells": [
  {
   "cell_type": "markdown",
   "id": "centered-journalism",
   "metadata": {},
   "source": [
    "## 1. Dataset exploration"
   ]
  },
  {
   "cell_type": "code",
   "execution_count": null,
   "id": "disciplinary-moment",
   "metadata": {},
   "outputs": [],
   "source": [
    "import requests\n",
    "from ampligraph.datasets import load_from_csv\n",
    "import numpy as np"
   ]
  },
  {
   "cell_type": "code",
   "execution_count": null,
   "id": "french-outside",
   "metadata": {},
   "outputs": [],
   "source": [
    "url = 'https://ampligraph.s3-eu-west-1.amazonaws.com/datasets/GoT.csv'\n",
    "with open('GoT.csv', 'wb') as f_in:\n",
    "    f_in.write(requests.get(url).content)"
   ]
  },
  {
   "cell_type": "code",
   "execution_count": null,
   "id": "cardiac-princess",
   "metadata": {},
   "outputs": [],
   "source": [
    "X = load_from_csv('.', 'GoT.csv', sep=',')\n",
    "X[:5, ]"
   ]
  },
  {
   "cell_type": "code",
   "execution_count": null,
   "id": "satisfied-florist",
   "metadata": {},
   "outputs": [],
   "source": [
    "entities = np.unique(np.concatenate([X[:, 0], X[:, 2]]))\n",
    "entities"
   ]
  },
  {
   "cell_type": "code",
   "execution_count": null,
   "id": "induced-pizza",
   "metadata": {},
   "outputs": [],
   "source": [
    "relations = np.unique(X[:, 1])\n",
    "relations"
   ]
  },
  {
   "cell_type": "code",
   "execution_count": null,
   "id": "imperial-marble",
   "metadata": {},
   "outputs": [],
   "source": []
  },
  {
   "cell_type": "code",
   "execution_count": null,
   "id": "educational-smell",
   "metadata": {},
   "outputs": [],
   "source": []
  }
 ],
 "metadata": {
  "kernelspec": {
   "display_name": "Python 3",
   "language": "python",
   "name": "python3"
  },
  "language_info": {
   "codemirror_mode": {
    "name": "ipython",
    "version": 3
   },
   "file_extension": ".py",
   "mimetype": "text/x-python",
   "name": "python",
   "nbconvert_exporter": "python",
   "pygments_lexer": "ipython3",
   "version": "3.7.9"
  }
 },
 "nbformat": 4,
 "nbformat_minor": 5
}

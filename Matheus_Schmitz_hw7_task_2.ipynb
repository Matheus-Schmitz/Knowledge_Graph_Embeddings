{
  "nbformat": 4,
  "nbformat_minor": 0,
  "metadata": {
    "colab": {
      "name": "Matheus_Schmitz_hw7_task_2.ipynb",
      "provenance": []
    },
    "kernelspec": {
      "name": "python3",
      "display_name": "Python 3"
    },
    "language_info": {
      "name": "python"
    },
    "accelerator": "GPU"
  },
  "cells": [
    {
      "cell_type": "markdown",
      "metadata": {
        "id": "qmG6V4v1I2O4"
      },
      "source": [
        "# Matheus_Schmitz_hw7_task_2"
      ]
    },
    {
      "cell_type": "markdown",
      "metadata": {
        "id": "YH5cGPtZJTlh"
      },
      "source": [
        "Matheus Schmitz\n",
        "\n",
        "USC ID: 5039286453"
      ]
    },
    {
      "cell_type": "code",
      "metadata": {
        "colab": {
          "base_uri": "https://localhost:8080/"
        },
        "id": "gKSFIrodIzSb",
        "outputId": "af36d233-59f5-473a-a3d1-55459e5b8efc"
      },
      "source": [
        "# File manipulation imports for Google Colab\n",
        "from google.colab import drive\n",
        "drive.mount('/content/drive')\n",
        "import os\n",
        "os.chdir(\"/content/drive/My Drive/Colab Notebooks/DSCI 558\")"
      ],
      "execution_count": 7,
      "outputs": [
        {
          "output_type": "stream",
          "text": [
            "Drive already mounted at /content/drive; to attempt to forcibly remount, call drive.mount(\"/content/drive\", force_remount=True).\n"
          ],
          "name": "stdout"
        }
      ]
    },
    {
      "cell_type": "code",
      "metadata": {
        "id": "ZYjlXOcDLb1L"
      },
      "source": [
        "!pip install -q ampligraph\n",
        "!pip install -q tensorflow==1.15"
      ],
      "execution_count": 8,
      "outputs": []
    },
    {
      "cell_type": "code",
      "metadata": {
        "id": "EhlOglbpLckA"
      },
      "source": [
        "import requests\n",
        "from ampligraph.datasets import load_from_csv\n",
        "import numpy as np\n",
        "import pandas as pd"
      ],
      "execution_count": 9,
      "outputs": []
    },
    {
      "cell_type": "markdown",
      "metadata": {
        "id": "pNaHHy1KLHRp"
      },
      "source": [
        "## Train-Test Split"
      ]
    },
    {
      "cell_type": "code",
      "metadata": {
        "colab": {
          "base_uri": "https://localhost:8080/"
        },
        "id": "b88ixe7uLZSv",
        "outputId": "a4bdba16-88b3-48eb-e44a-47c040e02ac3"
      },
      "source": [
        "from ampligraph.evaluation import train_test_split_no_unseen \n",
        "\n",
        "X = load_from_csv('', 'freebase-237-merged-and-remapped.csv', sep=',')\n",
        "print(f'X.shape: {X.shape}')\n",
        "X_train, X_test = train_test_split_no_unseen(X, test_size=10000) \n",
        "print('Train set size: ', X_train.shape)\n",
        "print('Test set size: ', X_test.shape)"
      ],
      "execution_count": 10,
      "outputs": [
        {
          "output_type": "stream",
          "text": [
            "X.shape: (308722, 3)\n",
            "Train set size:  (298722, 3)\n",
            "Test set size:  (10000, 3)\n"
          ],
          "name": "stdout"
        }
      ]
    },
    {
      "cell_type": "code",
      "metadata": {
        "colab": {
          "base_uri": "https://localhost:8080/"
        },
        "id": "0jXI-JTuMKcV",
        "outputId": "615d4dbe-b19c-4a26-ee24-95cce78e4d4a"
      },
      "source": [
        "# ComplEx was the best performing model in task 1\n",
        "from ampligraph.latent_features import ComplEx\n",
        "from ampligraph.evaluation import evaluate_performance\n",
        "import tensorflow as tf\n",
        "tf.logging.set_verbosity(tf.logging.ERROR)\n",
        "from ampligraph.evaluation import mr_score, mrr_score, hits_at_n_score\n",
        "\n",
        "model = ComplEx(batches_count=100, \n",
        "                seed=0, \n",
        "                epochs=200, \n",
        "                k=300, \n",
        "                eta=5,\n",
        "                optimizer='adam', \n",
        "                optimizer_params={'lr':1e-3},\n",
        "                loss='multiclass_nll', \n",
        "                regularizer='LP', \n",
        "                regularizer_params={'p':3, 'lambda':1e-5}, \n",
        "                verbose=True)\n",
        "\n",
        "positives_filter = X\n",
        "\n",
        "tf.logging.set_verbosity(tf.logging.ERROR)\n",
        "\n",
        "model.fit(X_train, early_stopping = False)\n",
        "\n",
        "ranks = evaluate_performance(X_test, \n",
        "                             model=model, \n",
        "                             filter_triples=positives_filter,   # Corruption strategy filter defined above \n",
        "                             use_default_protocol=True, # corrupt subj and obj separately while evaluating\n",
        "                             verbose=True)\n",
        "\n",
        "mrr = mrr_score(ranks)\n",
        "print(\"MRR: %.2f\" % (mrr))\n",
        "\n",
        "hits_10 = hits_at_n_score(ranks, n=10)\n",
        "print(\"Hits@10: %.2f\" % (hits_10))\n",
        "hits_3 = hits_at_n_score(ranks, n=3)\n",
        "print(\"Hits@3: %.2f\" % (hits_3))\n",
        "hits_1 = hits_at_n_score(ranks, n=1)\n",
        "print(\"Hits@1: %.2f\" % (hits_1))"
      ],
      "execution_count": 11,
      "outputs": [
        {
          "output_type": "stream",
          "text": [
            "Average Loss:   0.027143: 100%|██████████| 200/200 [07:10<00:00,  2.15s/epoch]"
          ],
          "name": "stderr"
        },
        {
          "output_type": "stream",
          "text": [
            "WARNING - DeprecationWarning: use_default_protocol will be removed in future. Please use corrupt_side argument instead.\n"
          ],
          "name": "stdout"
        },
        {
          "output_type": "stream",
          "text": [
            "\n",
            "100%|██████████| 10000/10000 [01:52<00:00, 88.62it/s]\n"
          ],
          "name": "stderr"
        },
        {
          "output_type": "stream",
          "text": [
            "MRR: 0.21\n",
            "Hits@10: 0.37\n",
            "Hits@3: 0.24\n",
            "Hits@1: 0.13\n"
          ],
          "name": "stdout"
        }
      ]
    },
    {
      "cell_type": "code",
      "metadata": {
        "colab": {
          "base_uri": "https://localhost:8080/",
          "height": 366
        },
        "id": "xwXOhFA5MY1G",
        "outputId": "34d797da-a037-4d92-c356-c611c3cc12d4"
      },
      "source": [
        "# Randomly select 10 different triples to run the prediction and show the predicted result in your notebook using the format below\n",
        "random_test_indexes = np.random.choice(X_test.shape[0], 10)\n",
        "X_unseen = X_test[random_test_indexes]\n",
        "\n",
        "unseen_filter = np.array(list({tuple(i) for i in np.vstack((positives_filter, X_unseen))}))\n",
        "\n",
        "ranks_unseen = evaluate_performance(\n",
        "    X_unseen, \n",
        "    model=model, \n",
        "    filter_triples=unseen_filter,   # Corruption strategy filter defined above \n",
        "    corrupt_side = 's+o',\n",
        "    use_default_protocol=False, # corrupt subj and obj separately while evaluating\n",
        "    verbose=True\n",
        ")\n",
        "\n",
        "scores = model.predict(X_unseen)\n",
        "\n",
        "from scipy.special import expit\n",
        "probs = expit(scores)\n",
        "\n",
        "import pandas as pd\n",
        "pd.DataFrame(list(zip([' '.join(x) for x in X_unseen], \n",
        "                      ranks_unseen, \n",
        "                      np.squeeze(scores),\n",
        "                      np.squeeze(probs))), \n",
        "             columns=['statement', 'rank', 'score', 'prob']).sort_values(\"score\")"
      ],
      "execution_count": 12,
      "outputs": [
        {
          "output_type": "stream",
          "text": [
            "100%|██████████| 10/10 [00:00<00:00, 55.70it/s]\n"
          ],
          "name": "stderr"
        },
        {
          "output_type": "execute_result",
          "data": {
            "text/html": [
              "<div>\n",
              "<style scoped>\n",
              "    .dataframe tbody tr th:only-of-type {\n",
              "        vertical-align: middle;\n",
              "    }\n",
              "\n",
              "    .dataframe tbody tr th {\n",
              "        vertical-align: top;\n",
              "    }\n",
              "\n",
              "    .dataframe thead th {\n",
              "        text-align: right;\n",
              "    }\n",
              "</style>\n",
              "<table border=\"1\" class=\"dataframe\">\n",
              "  <thead>\n",
              "    <tr style=\"text-align: right;\">\n",
              "      <th></th>\n",
              "      <th>statement</th>\n",
              "      <th>rank</th>\n",
              "      <th>score</th>\n",
              "      <th>prob</th>\n",
              "    </tr>\n",
              "  </thead>\n",
              "  <tbody>\n",
              "    <tr>\n",
              "      <th>9</th>\n",
              "      <td>bafta award for best film /award/award_categor...</td>\n",
              "      <td>1067</td>\n",
              "      <td>4.594365</td>\n",
              "      <td>0.989993</td>\n",
              "    </tr>\n",
              "    <tr>\n",
              "      <th>7</th>\n",
              "      <td>europe /location/location/contains czech republic</td>\n",
              "      <td>1213</td>\n",
              "      <td>5.777078</td>\n",
              "      <td>0.996912</td>\n",
              "    </tr>\n",
              "    <tr>\n",
              "      <th>4</th>\n",
              "      <td>don cheadle /award/award_winner/awards_won./aw...</td>\n",
              "      <td>267</td>\n",
              "      <td>8.492310</td>\n",
              "      <td>0.999795</td>\n",
              "    </tr>\n",
              "    <tr>\n",
              "      <th>5</th>\n",
              "      <td>kathleen quinlan /people/person/place_of_birth...</td>\n",
              "      <td>2015</td>\n",
              "      <td>12.807221</td>\n",
              "      <td>0.999997</td>\n",
              "    </tr>\n",
              "    <tr>\n",
              "      <th>1</th>\n",
              "      <td>harmonica /music/performance_role/regular_perf...</td>\n",
              "      <td>39</td>\n",
              "      <td>14.166807</td>\n",
              "      <td>0.999999</td>\n",
              "    </tr>\n",
              "    <tr>\n",
              "      <th>8</th>\n",
              "      <td>crunk /music/genre/artists lil jon</td>\n",
              "      <td>16</td>\n",
              "      <td>15.645445</td>\n",
              "      <td>1.000000</td>\n",
              "    </tr>\n",
              "    <tr>\n",
              "      <th>6</th>\n",
              "      <td>soprano saxophone /music/performance_role/trac...</td>\n",
              "      <td>30</td>\n",
              "      <td>15.965117</td>\n",
              "      <td>1.000000</td>\n",
              "    </tr>\n",
              "    <tr>\n",
              "      <th>3</th>\n",
              "      <td>university of delaware /education/educational_...</td>\n",
              "      <td>551</td>\n",
              "      <td>16.134884</td>\n",
              "      <td>1.000000</td>\n",
              "    </tr>\n",
              "    <tr>\n",
              "      <th>0</th>\n",
              "      <td>jeffrey jones /award/award_nominee/award_nomin...</td>\n",
              "      <td>6</td>\n",
              "      <td>17.202389</td>\n",
              "      <td>1.000000</td>\n",
              "    </tr>\n",
              "    <tr>\n",
              "      <th>2</th>\n",
              "      <td>ratatouille /award/award_winning_work/awards_w...</td>\n",
              "      <td>38</td>\n",
              "      <td>17.536339</td>\n",
              "      <td>1.000000</td>\n",
              "    </tr>\n",
              "  </tbody>\n",
              "</table>\n",
              "</div>"
            ],
            "text/plain": [
              "                                           statement  rank      score      prob\n",
              "9  bafta award for best film /award/award_categor...  1067   4.594365  0.989993\n",
              "7  europe /location/location/contains czech republic  1213   5.777078  0.996912\n",
              "4  don cheadle /award/award_winner/awards_won./aw...   267   8.492310  0.999795\n",
              "5  kathleen quinlan /people/person/place_of_birth...  2015  12.807221  0.999997\n",
              "1  harmonica /music/performance_role/regular_perf...    39  14.166807  0.999999\n",
              "8                 crunk /music/genre/artists lil jon    16  15.645445  1.000000\n",
              "6  soprano saxophone /music/performance_role/trac...    30  15.965117  1.000000\n",
              "3  university of delaware /education/educational_...   551  16.134884  1.000000\n",
              "0  jeffrey jones /award/award_nominee/award_nomin...     6  17.202389  1.000000\n",
              "2  ratatouille /award/award_winning_work/awards_w...    38  17.536339  1.000000"
            ]
          },
          "metadata": {
            "tags": []
          },
          "execution_count": 12
        }
      ]
    }
  ]
}
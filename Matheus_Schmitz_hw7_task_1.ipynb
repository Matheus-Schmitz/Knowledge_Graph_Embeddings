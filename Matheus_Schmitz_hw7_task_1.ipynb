{
  "nbformat": 4,
  "nbformat_minor": 0,
  "metadata": {
    "colab": {
      "name": "Matheus_Schmitz_hw7_task_1.ipynb",
      "provenance": [],
      "collapsed_sections": []
    },
    "kernelspec": {
      "name": "python3",
      "display_name": "Python 3"
    },
    "language_info": {
      "name": "python"
    }
  },
  "cells": [
    {
      "cell_type": "markdown",
      "metadata": {
        "id": "SQ2o6_Z0qS7o"
      },
      "source": [
        "# Matheus_Schmitz_hw7_task_1"
      ]
    },
    {
      "cell_type": "markdown",
      "metadata": {
        "id": "Yb7Yfxz_oSTU"
      },
      "source": [
        "Matheus Schmitz\n",
        "\n",
        "USC ID: 5039286453"
      ]
    },
    {
      "cell_type": "code",
      "metadata": {
        "colab": {
          "base_uri": "https://localhost:8080/"
        },
        "id": "sklLzcPT2Pfd",
        "outputId": "89df76ca-b86b-4f64-d8cd-77c8af054564"
      },
      "source": [
        "# File manipulation imports for Google Colab\n",
        "from google.colab import drive\n",
        "drive.mount('/content/drive')\n",
        "import os\n",
        "os.chdir(\"/content/drive/My Drive/Colab Notebooks/DSCI 558\")"
      ],
      "execution_count": 1,
      "outputs": [
        {
          "output_type": "stream",
          "text": [
            "Drive already mounted at /content/drive; to attempt to forcibly remount, call drive.mount(\"/content/drive\", force_remount=True).\n"
          ],
          "name": "stdout"
        }
      ]
    },
    {
      "cell_type": "markdown",
      "metadata": {
        "id": "JvKJcskEqP69"
      },
      "source": [
        "https://docs.ampligraph.org/en/1.3.2/tutorials/AmpliGraphBasicsTutorial.html"
      ]
    },
    {
      "cell_type": "code",
      "metadata": {
        "id": "6b-2isCilt-X"
      },
      "source": [
        "!pip install -q ampligraph\n",
        "!pip install -q tensorflow==1.15"
      ],
      "execution_count": 2,
      "outputs": []
    },
    {
      "cell_type": "code",
      "metadata": {
        "id": "uDd7t5Vjlv81"
      },
      "source": [
        "import requests\n",
        "from ampligraph.datasets import load_from_csv\n",
        "import numpy as np"
      ],
      "execution_count": 3,
      "outputs": []
    },
    {
      "cell_type": "markdown",
      "metadata": {
        "id": "ryzkyInPnwEM"
      },
      "source": [
        "## 1. Dataset exploration"
      ]
    },
    {
      "cell_type": "code",
      "metadata": {
        "id": "AxdfBqv3l_tL"
      },
      "source": [
        "url = 'https://ampligraph.s3-eu-west-1.amazonaws.com/datasets/GoT.csv'\n",
        "with open('GoT.csv', 'wb') as f_in:\n",
        "    f_in.write(requests.get(url).content)"
      ],
      "execution_count": 4,
      "outputs": []
    },
    {
      "cell_type": "code",
      "metadata": {
        "colab": {
          "base_uri": "https://localhost:8080/"
        },
        "id": "7FicOYVBlxRL",
        "outputId": "d711d015-22fa-4281-ae3a-06a0da3a06b9"
      },
      "source": [
        "X = load_from_csv('.', 'GoT.csv', sep=',')\n",
        "X[:5, ]"
      ],
      "execution_count": 5,
      "outputs": [
        {
          "output_type": "execute_result",
          "data": {
            "text/plain": [
              "array([['Smithyton', 'SEAT_OF', 'House Shermer of Smithyton'],\n",
              "       ['House Mormont of Bear Island', 'LED_BY', 'Maege Mormont'],\n",
              "       ['Margaery Tyrell', 'SPOUSE', 'Joffrey Baratheon'],\n",
              "       ['Maron Nymeros Martell', 'ALLIED_WITH',\n",
              "        'House Nymeros Martell of Sunspear'],\n",
              "       ['House Gargalen of Salt Shore', 'IN_REGION', 'Dorne']],\n",
              "      dtype=object)"
            ]
          },
          "metadata": {
            "tags": []
          },
          "execution_count": 5
        }
      ]
    },
    {
      "cell_type": "code",
      "metadata": {
        "colab": {
          "base_uri": "https://localhost:8080/"
        },
        "id": "yiFRNNBjl3HE",
        "outputId": "a7bef974-ea9e-44c3-8ae0-fc687cca3ad4"
      },
      "source": [
        "entities = np.unique(np.concatenate([X[:, 0], X[:, 2]]))\n",
        "entities"
      ],
      "execution_count": 6,
      "outputs": [
        {
          "output_type": "execute_result",
          "data": {
            "text/plain": [
              "array(['Abelar Hightower', 'Acorn Hall', 'Addam Frey', ..., 'the Antlers',\n",
              "       'the Paps', 'unnamed tower'], dtype=object)"
            ]
          },
          "metadata": {
            "tags": []
          },
          "execution_count": 6
        }
      ]
    },
    {
      "cell_type": "code",
      "metadata": {
        "colab": {
          "base_uri": "https://localhost:8080/"
        },
        "id": "2UtzNBeLl4pc",
        "outputId": "40b7e6df-4180-49d1-d62f-097a910c5759"
      },
      "source": [
        "relations = np.unique(X[:, 1])\n",
        "relations"
      ],
      "execution_count": 7,
      "outputs": [
        {
          "output_type": "execute_result",
          "data": {
            "text/plain": [
              "array(['ALLIED_WITH', 'BRANCH_OF', 'FOUNDED_BY', 'HEIR_TO', 'IN_REGION',\n",
              "       'LED_BY', 'PARENT_OF', 'SEAT_OF', 'SPOUSE', 'SWORN_TO'],\n",
              "      dtype=object)"
            ]
          },
          "metadata": {
            "tags": []
          },
          "execution_count": 7
        }
      ]
    },
    {
      "cell_type": "markdown",
      "metadata": {
        "id": "_PR5vvn7n49U"
      },
      "source": [
        "## 2. Defining train and test datasets"
      ]
    },
    {
      "cell_type": "code",
      "metadata": {
        "colab": {
          "base_uri": "https://localhost:8080/"
        },
        "id": "f9Ql4-pqmDaD",
        "outputId": "ad97847c-7601-4878-da1d-4c54e3e7ed9c"
      },
      "source": [
        "from ampligraph.evaluation import train_test_split_no_unseen \n",
        "\n",
        "X_train, X_test = train_test_split_no_unseen(X, test_size=100) \n",
        "print('Train set size: ', X_train.shape)\n",
        "print('Test set size: ', X_test.shape)"
      ],
      "execution_count": 8,
      "outputs": [
        {
          "output_type": "stream",
          "text": [
            "Train set size:  (3075, 3)\n",
            "Test set size:  (100, 3)\n"
          ],
          "name": "stdout"
        }
      ]
    },
    {
      "cell_type": "markdown",
      "metadata": {
        "id": "nQ7NVquIoP-n"
      },
      "source": [
        "## 3. Training a model (ComplEx)\n"
      ]
    },
    {
      "cell_type": "code",
      "metadata": {
        "id": "jHjXgG3AoJum"
      },
      "source": [
        "from ampligraph.latent_features import ComplEx"
      ],
      "execution_count": 9,
      "outputs": []
    },
    {
      "cell_type": "code",
      "metadata": {
        "id": "MwPhAwSYoMAF"
      },
      "source": [
        "model = ComplEx(batches_count=100, \n",
        "                seed=0, \n",
        "                epochs=200, \n",
        "                k=150, \n",
        "                eta=5,\n",
        "                optimizer='adam', \n",
        "                optimizer_params={'lr':1e-3},\n",
        "                loss='multiclass_nll', \n",
        "                regularizer='LP', \n",
        "                regularizer_params={'p':3, 'lambda':1e-5}, \n",
        "                verbose=True)"
      ],
      "execution_count": 10,
      "outputs": []
    },
    {
      "cell_type": "markdown",
      "metadata": {
        "id": "WU3XEHUHpLMW"
      },
      "source": [
        "### Filtering negatives"
      ]
    },
    {
      "cell_type": "code",
      "metadata": {
        "id": "15AagCYfofrN"
      },
      "source": [
        "positives_filter = X"
      ],
      "execution_count": 11,
      "outputs": []
    },
    {
      "cell_type": "markdown",
      "metadata": {
        "id": "Ju1X0cvRpaGc"
      },
      "source": [
        "### Fitting the model"
      ]
    },
    {
      "cell_type": "code",
      "metadata": {
        "colab": {
          "base_uri": "https://localhost:8080/"
        },
        "id": "K5Sk5kHdpZPO",
        "outputId": "517983d4-e30f-47a7-caf6-2ea9c28f9abd"
      },
      "source": [
        "import tensorflow as tf\n",
        "tf.logging.set_verbosity(tf.logging.ERROR)\n",
        "\n",
        "model.fit(X_train, early_stopping = False)"
      ],
      "execution_count": 12,
      "outputs": [
        {
          "output_type": "stream",
          "text": [
            "Average Loss:   0.017603: 100%|██████████| 200/200 [03:25<00:00,  1.03s/epoch]\n"
          ],
          "name": "stderr"
        }
      ]
    },
    {
      "cell_type": "markdown",
      "metadata": {
        "id": "cx2CJrn0pfmx"
      },
      "source": [
        "## 4. Saving and restoring a model"
      ]
    },
    {
      "cell_type": "code",
      "metadata": {
        "id": "tsQxDEmipg69"
      },
      "source": [
        "from ampligraph.latent_features import save_model, restore_model"
      ],
      "execution_count": 13,
      "outputs": []
    },
    {
      "cell_type": "code",
      "metadata": {
        "id": "s66XteNCpwXv"
      },
      "source": [
        "save_model(model, './best_model.pkl')"
      ],
      "execution_count": 14,
      "outputs": []
    },
    {
      "cell_type": "code",
      "metadata": {
        "id": "szxObqb8pya-"
      },
      "source": [
        "del model"
      ],
      "execution_count": 15,
      "outputs": []
    },
    {
      "cell_type": "code",
      "metadata": {
        "id": "7Cnpr9gHpzZN"
      },
      "source": [
        "model = restore_model('./best_model.pkl')"
      ],
      "execution_count": 16,
      "outputs": []
    },
    {
      "cell_type": "code",
      "metadata": {
        "colab": {
          "base_uri": "https://localhost:8080/"
        },
        "id": "nXFT9g1Lp00F",
        "outputId": "b0eb352e-7222-4957-f3da-5dd55d42740e"
      },
      "source": [
        "if model.is_fitted:\n",
        "    print('The model is fit!')\n",
        "else:\n",
        "    print('The model is not fit! Did you skip a step?')"
      ],
      "execution_count": 17,
      "outputs": [
        {
          "output_type": "stream",
          "text": [
            "The model is fit!\n"
          ],
          "name": "stdout"
        }
      ]
    },
    {
      "cell_type": "markdown",
      "metadata": {
        "id": "dwewTnZMp5JD"
      },
      "source": [
        "## 5. Evaluating a model"
      ]
    },
    {
      "cell_type": "code",
      "metadata": {
        "id": "uZPk2489p289"
      },
      "source": [
        "from ampligraph.evaluation import evaluate_performance"
      ],
      "execution_count": 18,
      "outputs": []
    },
    {
      "cell_type": "markdown",
      "metadata": {
        "id": "IbaJQdZXqXCa"
      },
      "source": [
        "### Running evaluation"
      ]
    },
    {
      "cell_type": "code",
      "metadata": {
        "colab": {
          "base_uri": "https://localhost:8080/"
        },
        "id": "Z15-FZvbqN_l",
        "outputId": "fa49ecef-a5f0-469b-d02e-52aefa92d82d"
      },
      "source": [
        "ranks = evaluate_performance(X_test, \n",
        "                             model=model, \n",
        "                             filter_triples=positives_filter,   # Corruption strategy filter defined above \n",
        "                             use_default_protocol=True, # corrupt subj and obj separately while evaluating\n",
        "                             verbose=True)"
      ],
      "execution_count": 19,
      "outputs": [
        {
          "output_type": "stream",
          "text": [
            "WARNING - DeprecationWarning: use_default_protocol will be removed in future. Please use corrupt_side argument instead.\n"
          ],
          "name": "stdout"
        },
        {
          "output_type": "stream",
          "text": [
            "100%|██████████| 100/100 [00:01<00:00, 62.33it/s]\n"
          ],
          "name": "stderr"
        }
      ]
    },
    {
      "cell_type": "markdown",
      "metadata": {
        "id": "_fOljH22qm4M"
      },
      "source": [
        "### Metrics"
      ]
    },
    {
      "cell_type": "code",
      "metadata": {
        "id": "-8C1-4LLNIAC"
      },
      "source": [
        "# Dictionary to compare performances of different models\n",
        "model_comparison = {}"
      ],
      "execution_count": 20,
      "outputs": []
    },
    {
      "cell_type": "code",
      "metadata": {
        "colab": {
          "base_uri": "https://localhost:8080/"
        },
        "id": "99TeGv-PqZk-",
        "outputId": "78b4bc06-e867-4136-aba2-8381944d4b8e"
      },
      "source": [
        "from ampligraph.evaluation import mr_score, mrr_score, hits_at_n_score\n",
        "\n",
        "model_comparison['ComplEx'] = {}\n",
        "model_comparison['ComplEx']['MMR'] = mrr_score(ranks)\n",
        "print(\"MRR: %.2f\" % (model_comparison['ComplEx']['MMR']))\n",
        "\n",
        "model_comparison['ComplEx']['Hits@10'] = hits_at_n_score(ranks, n=10)\n",
        "print(\"Hits@10: %.2f\" % (model_comparison['ComplEx']['Hits@10']))\n",
        "model_comparison['ComplEx']['Hits@3'] = hits_at_n_score(ranks, n=3)\n",
        "print(\"Hits@3: %.2f\" % (model_comparison['ComplEx']['Hits@3']))\n",
        "model_comparison['ComplEx']['Hits@1'] = hits_at_n_score(ranks, n=1)\n",
        "print(\"Hits@1: %.2f\" % (model_comparison['ComplEx']['Hits@1']))"
      ],
      "execution_count": 21,
      "outputs": [
        {
          "output_type": "stream",
          "text": [
            "MRR: 0.41\n",
            "Hits@10: 0.55\n",
            "Hits@3: 0.45\n",
            "Hits@1: 0.34\n"
          ],
          "name": "stdout"
        }
      ]
    },
    {
      "cell_type": "markdown",
      "metadata": {
        "id": "KsbYRP41q44e"
      },
      "source": [
        "## 6. Predicting New Links"
      ]
    },
    {
      "cell_type": "code",
      "metadata": {
        "id": "AtUz3A0Mqq_2"
      },
      "source": [
        "X_unseen = np.array([\n",
        "    ['Jorah Mormont', 'SPOUSE', 'Daenerys Targaryen'],\n",
        "    ['Tyrion Lannister', 'SPOUSE', 'Missandei'],\n",
        "    [\"King's Landing\", 'SEAT_OF', 'House Lannister of Casterly Rock'],\n",
        "    ['Sansa Stark', 'SPOUSE', 'Petyr Baelish'],\n",
        "    ['Daenerys Targaryen', 'SPOUSE', 'Jon Snow'],\n",
        "    ['Daenerys Targaryen', 'SPOUSE', 'Craster'],\n",
        "    ['House Stark of Winterfell', 'IN_REGION', 'The North'],\n",
        "    ['House Stark of Winterfell', 'IN_REGION', 'Dorne'],\n",
        "    ['House Tyrell of Highgarden', 'IN_REGION', 'Beyond the Wall'],\n",
        "    ['Brandon Stark', 'ALLIED_WITH', 'House Stark of Winterfell'],\n",
        "    ['Brandon Stark', 'ALLIED_WITH', 'House Lannister of Casterly Rock'],    \n",
        "    ['Rhaegar Targaryen', 'PARENT_OF', 'Jon Snow'],\n",
        "    ['House Hutcheson', 'SWORN_TO', 'House Tyrell of Highgarden'],\n",
        "    ['Daenerys Targaryen', 'ALLIED_WITH', 'House Stark of Winterfell'],\n",
        "    ['Daenerys Targaryen', 'ALLIED_WITH', 'House Lannister of Casterly Rock'],\n",
        "    ['Jaime Lannister', 'PARENT_OF', 'Myrcella Baratheon'],\n",
        "    ['Robert I Baratheon', 'PARENT_OF', 'Myrcella Baratheon'],\n",
        "    ['Cersei Lannister', 'PARENT_OF', 'Myrcella Baratheon'],\n",
        "    ['Cersei Lannister', 'PARENT_OF', 'Brandon Stark'],\n",
        "    [\"Tywin Lannister\", 'PARENT_OF', 'Jaime Lannister'],\n",
        "    [\"Missandei\", 'SPOUSE', 'Grey Worm'],\n",
        "    [\"Brienne of Tarth\", 'SPOUSE', 'Jaime Lannister']\n",
        "])"
      ],
      "execution_count": 22,
      "outputs": []
    },
    {
      "cell_type": "code",
      "metadata": {
        "id": "a__D2yFrq7DW"
      },
      "source": [
        "unseen_filter = np.array(list({tuple(i) for i in np.vstack((positives_filter, X_unseen))}))"
      ],
      "execution_count": 23,
      "outputs": []
    },
    {
      "cell_type": "code",
      "metadata": {
        "colab": {
          "base_uri": "https://localhost:8080/"
        },
        "id": "20KOEQ1zq8LG",
        "outputId": "662bee66-52b9-4bd1-fa56-086ba7b7dbc1"
      },
      "source": [
        "ranks_unseen = evaluate_performance(\n",
        "    X_unseen, \n",
        "    model=model, \n",
        "    filter_triples=unseen_filter,   # Corruption strategy filter defined above \n",
        "    corrupt_side = 's+o',\n",
        "    use_default_protocol=False, # corrupt subj and obj separately while evaluating\n",
        "    verbose=True\n",
        ")"
      ],
      "execution_count": 24,
      "outputs": [
        {
          "output_type": "stream",
          "text": [
            "100%|██████████| 22/22 [00:00<00:00, 53.90it/s]\n"
          ],
          "name": "stderr"
        }
      ]
    },
    {
      "cell_type": "code",
      "metadata": {
        "id": "ThbMroAeq90O"
      },
      "source": [
        "scores = model.predict(X_unseen)"
      ],
      "execution_count": 25,
      "outputs": []
    },
    {
      "cell_type": "code",
      "metadata": {
        "id": "IuigKbZ4q_UB"
      },
      "source": [
        "from scipy.special import expit\n",
        "probs = expit(scores)"
      ],
      "execution_count": 26,
      "outputs": []
    },
    {
      "cell_type": "code",
      "metadata": {
        "colab": {
          "base_uri": "https://localhost:8080/",
          "height": 708
        },
        "id": "YR5rlW_PrA19",
        "outputId": "8973ff4c-48cf-410f-f630-0f164efa8643"
      },
      "source": [
        "import pandas as pd\n",
        "pd.DataFrame(list(zip([' '.join(x) for x in X_unseen], \n",
        "                      ranks_unseen, \n",
        "                      np.squeeze(scores),\n",
        "                      np.squeeze(probs))), \n",
        "             columns=['statement', 'rank', 'score', 'prob']).sort_values(\"score\")"
      ],
      "execution_count": 27,
      "outputs": [
        {
          "output_type": "execute_result",
          "data": {
            "text/html": [
              "<div>\n",
              "<style scoped>\n",
              "    .dataframe tbody tr th:only-of-type {\n",
              "        vertical-align: middle;\n",
              "    }\n",
              "\n",
              "    .dataframe tbody tr th {\n",
              "        vertical-align: top;\n",
              "    }\n",
              "\n",
              "    .dataframe thead th {\n",
              "        text-align: right;\n",
              "    }\n",
              "</style>\n",
              "<table border=\"1\" class=\"dataframe\">\n",
              "  <thead>\n",
              "    <tr style=\"text-align: right;\">\n",
              "      <th></th>\n",
              "      <th>statement</th>\n",
              "      <th>rank</th>\n",
              "      <th>score</th>\n",
              "      <th>prob</th>\n",
              "    </tr>\n",
              "  </thead>\n",
              "  <tbody>\n",
              "    <tr>\n",
              "      <th>10</th>\n",
              "      <td>Brandon Stark ALLIED_WITH House Lannister of C...</td>\n",
              "      <td>4017</td>\n",
              "      <td>-3.814217</td>\n",
              "      <td>0.021579</td>\n",
              "    </tr>\n",
              "    <tr>\n",
              "      <th>18</th>\n",
              "      <td>Cersei Lannister PARENT_OF Brandon Stark</td>\n",
              "      <td>4083</td>\n",
              "      <td>-1.994114</td>\n",
              "      <td>0.119822</td>\n",
              "    </tr>\n",
              "    <tr>\n",
              "      <th>9</th>\n",
              "      <td>Brandon Stark ALLIED_WITH House Stark of Winte...</td>\n",
              "      <td>2995</td>\n",
              "      <td>-0.747185</td>\n",
              "      <td>0.321435</td>\n",
              "    </tr>\n",
              "    <tr>\n",
              "      <th>1</th>\n",
              "      <td>Tyrion Lannister SPOUSE Missandei</td>\n",
              "      <td>3389</td>\n",
              "      <td>-0.740518</td>\n",
              "      <td>0.322891</td>\n",
              "    </tr>\n",
              "    <tr>\n",
              "      <th>21</th>\n",
              "      <td>Brienne of Tarth SPOUSE Jaime Lannister</td>\n",
              "      <td>3493</td>\n",
              "      <td>-0.702415</td>\n",
              "      <td>0.331277</td>\n",
              "    </tr>\n",
              "    <tr>\n",
              "      <th>5</th>\n",
              "      <td>Daenerys Targaryen SPOUSE Craster</td>\n",
              "      <td>3319</td>\n",
              "      <td>-0.702258</td>\n",
              "      <td>0.331312</td>\n",
              "    </tr>\n",
              "    <tr>\n",
              "      <th>15</th>\n",
              "      <td>Jaime Lannister PARENT_OF Myrcella Baratheon</td>\n",
              "      <td>2943</td>\n",
              "      <td>-0.206153</td>\n",
              "      <td>0.448643</td>\n",
              "    </tr>\n",
              "    <tr>\n",
              "      <th>0</th>\n",
              "      <td>Jorah Mormont SPOUSE Daenerys Targaryen</td>\n",
              "      <td>2450</td>\n",
              "      <td>-0.201867</td>\n",
              "      <td>0.449704</td>\n",
              "    </tr>\n",
              "    <tr>\n",
              "      <th>8</th>\n",
              "      <td>House Tyrell of Highgarden IN_REGION Beyond th...</td>\n",
              "      <td>2155</td>\n",
              "      <td>-0.131668</td>\n",
              "      <td>0.467130</td>\n",
              "    </tr>\n",
              "    <tr>\n",
              "      <th>2</th>\n",
              "      <td>King's Landing SEAT_OF House Lannister of Cast...</td>\n",
              "      <td>1724</td>\n",
              "      <td>-0.014984</td>\n",
              "      <td>0.496254</td>\n",
              "    </tr>\n",
              "    <tr>\n",
              "      <th>11</th>\n",
              "      <td>Rhaegar Targaryen PARENT_OF Jon Snow</td>\n",
              "      <td>2176</td>\n",
              "      <td>0.039815</td>\n",
              "      <td>0.509952</td>\n",
              "    </tr>\n",
              "    <tr>\n",
              "      <th>4</th>\n",
              "      <td>Daenerys Targaryen SPOUSE Jon Snow</td>\n",
              "      <td>1371</td>\n",
              "      <td>0.164007</td>\n",
              "      <td>0.540910</td>\n",
              "    </tr>\n",
              "    <tr>\n",
              "      <th>14</th>\n",
              "      <td>Daenerys Targaryen ALLIED_WITH House Lannister...</td>\n",
              "      <td>838</td>\n",
              "      <td>0.555441</td>\n",
              "      <td>0.635397</td>\n",
              "    </tr>\n",
              "    <tr>\n",
              "      <th>17</th>\n",
              "      <td>Cersei Lannister PARENT_OF Myrcella Baratheon</td>\n",
              "      <td>491</td>\n",
              "      <td>0.634258</td>\n",
              "      <td>0.653454</td>\n",
              "    </tr>\n",
              "    <tr>\n",
              "      <th>19</th>\n",
              "      <td>Tywin Lannister PARENT_OF Jaime Lannister</td>\n",
              "      <td>290</td>\n",
              "      <td>0.813547</td>\n",
              "      <td>0.692865</td>\n",
              "    </tr>\n",
              "    <tr>\n",
              "      <th>7</th>\n",
              "      <td>House Stark of Winterfell IN_REGION Dorne</td>\n",
              "      <td>129</td>\n",
              "      <td>1.334614</td>\n",
              "      <td>0.791603</td>\n",
              "    </tr>\n",
              "    <tr>\n",
              "      <th>13</th>\n",
              "      <td>Daenerys Targaryen ALLIED_WITH House Stark of ...</td>\n",
              "      <td>224</td>\n",
              "      <td>1.390047</td>\n",
              "      <td>0.800600</td>\n",
              "    </tr>\n",
              "    <tr>\n",
              "      <th>16</th>\n",
              "      <td>Robert I Baratheon PARENT_OF Myrcella Baratheon</td>\n",
              "      <td>21</td>\n",
              "      <td>1.921836</td>\n",
              "      <td>0.872343</td>\n",
              "    </tr>\n",
              "    <tr>\n",
              "      <th>3</th>\n",
              "      <td>Sansa Stark SPOUSE Petyr Baelish</td>\n",
              "      <td>29</td>\n",
              "      <td>2.685783</td>\n",
              "      <td>0.936182</td>\n",
              "    </tr>\n",
              "    <tr>\n",
              "      <th>20</th>\n",
              "      <td>Missandei SPOUSE Grey Worm</td>\n",
              "      <td>78</td>\n",
              "      <td>2.945535</td>\n",
              "      <td>0.950052</td>\n",
              "    </tr>\n",
              "    <tr>\n",
              "      <th>6</th>\n",
              "      <td>House Stark of Winterfell IN_REGION The North</td>\n",
              "      <td>9</td>\n",
              "      <td>3.121475</td>\n",
              "      <td>0.957770</td>\n",
              "    </tr>\n",
              "    <tr>\n",
              "      <th>12</th>\n",
              "      <td>House Hutcheson SWORN_TO House Tyrell of Highg...</td>\n",
              "      <td>10</td>\n",
              "      <td>3.323205</td>\n",
              "      <td>0.965216</td>\n",
              "    </tr>\n",
              "  </tbody>\n",
              "</table>\n",
              "</div>"
            ],
            "text/plain": [
              "                                            statement  rank     score      prob\n",
              "10  Brandon Stark ALLIED_WITH House Lannister of C...  4017 -3.814217  0.021579\n",
              "18           Cersei Lannister PARENT_OF Brandon Stark  4083 -1.994114  0.119822\n",
              "9   Brandon Stark ALLIED_WITH House Stark of Winte...  2995 -0.747185  0.321435\n",
              "1                   Tyrion Lannister SPOUSE Missandei  3389 -0.740518  0.322891\n",
              "21            Brienne of Tarth SPOUSE Jaime Lannister  3493 -0.702415  0.331277\n",
              "5                   Daenerys Targaryen SPOUSE Craster  3319 -0.702258  0.331312\n",
              "15       Jaime Lannister PARENT_OF Myrcella Baratheon  2943 -0.206153  0.448643\n",
              "0             Jorah Mormont SPOUSE Daenerys Targaryen  2450 -0.201867  0.449704\n",
              "8   House Tyrell of Highgarden IN_REGION Beyond th...  2155 -0.131668  0.467130\n",
              "2   King's Landing SEAT_OF House Lannister of Cast...  1724 -0.014984  0.496254\n",
              "11               Rhaegar Targaryen PARENT_OF Jon Snow  2176  0.039815  0.509952\n",
              "4                  Daenerys Targaryen SPOUSE Jon Snow  1371  0.164007  0.540910\n",
              "14  Daenerys Targaryen ALLIED_WITH House Lannister...   838  0.555441  0.635397\n",
              "17      Cersei Lannister PARENT_OF Myrcella Baratheon   491  0.634258  0.653454\n",
              "19          Tywin Lannister PARENT_OF Jaime Lannister   290  0.813547  0.692865\n",
              "7           House Stark of Winterfell IN_REGION Dorne   129  1.334614  0.791603\n",
              "13  Daenerys Targaryen ALLIED_WITH House Stark of ...   224  1.390047  0.800600\n",
              "16    Robert I Baratheon PARENT_OF Myrcella Baratheon    21  1.921836  0.872343\n",
              "3                    Sansa Stark SPOUSE Petyr Baelish    29  2.685783  0.936182\n",
              "20                         Missandei SPOUSE Grey Worm    78  2.945535  0.950052\n",
              "6       House Stark of Winterfell IN_REGION The North     9  3.121475  0.957770\n",
              "12  House Hutcheson SWORN_TO House Tyrell of Highg...    10  3.323205  0.965216"
            ]
          },
          "metadata": {
            "tags": []
          },
          "execution_count": 27
        }
      ]
    },
    {
      "cell_type": "markdown",
      "metadata": {
        "id": "LhqZYH9lrkgD"
      },
      "source": [
        "## 7. Visualizing Embeddings with Tensorboard projector"
      ]
    },
    {
      "cell_type": "code",
      "metadata": {
        "id": "95BSDTGvrJb2"
      },
      "source": [
        "from ampligraph.utils import create_tensorboard_visualizations\n",
        "create_tensorboard_visualizations(model, 'GoT_embeddings')"
      ],
      "execution_count": 28,
      "outputs": []
    },
    {
      "cell_type": "code",
      "metadata": {
        "id": "fzaj90wMCP3q",
        "colab": {
          "resources": {
            "http://localhost:6006/": {
              "data": "CjwhRE9DVFlQRSBodG1sPgo8aHRtbCBsYW5nPWVuPgogIDxtZXRhIGNoYXJzZXQ9dXRmLTg+CiAgPG1ldGEgbmFtZT12aWV3cG9ydCBjb250ZW50PSJpbml0aWFsLXNjYWxlPTEsIG1pbmltdW0tc2NhbGU9MSwgd2lkdGg9ZGV2aWNlLXdpZHRoIj4KICA8dGl0bGU+RXJyb3IgNTAwIChJbnRlcm5hbCBTZXJ2ZXIgRXJyb3IpISExPC90aXRsZT4KICA8c3R5bGU+CiAgICAqe21hcmdpbjowO3BhZGRpbmc6MH1odG1sLGNvZGV7Zm9udDoxNXB4LzIycHggYXJpYWwsc2Fucy1zZXJpZn1odG1se2JhY2tncm91bmQ6I2ZmZjtjb2xvcjojMjIyO3BhZGRpbmc6MTVweH1ib2R5e21hcmdpbjo3JSBhdXRvIDA7bWF4LXdpZHRoOjM5MHB4O21pbi1oZWlnaHQ6MTgwcHg7cGFkZGluZzozMHB4IDAgMTVweH0qID4gYm9keXtiYWNrZ3JvdW5kOnVybCgvL3d3dy5nb29nbGUuY29tL2ltYWdlcy9lcnJvcnMvcm9ib3QucG5nKSAxMDAlIDVweCBuby1yZXBlYXQ7cGFkZGluZy1yaWdodDoyMDVweH1we21hcmdpbjoxMXB4IDAgMjJweDtvdmVyZmxvdzpoaWRkZW59aW5ze2NvbG9yOiM3Nzc7dGV4dC1kZWNvcmF0aW9uOm5vbmV9YSBpbWd7Ym9yZGVyOjB9QG1lZGlhIHNjcmVlbiBhbmQgKG1heC13aWR0aDo3NzJweCl7Ym9keXtiYWNrZ3JvdW5kOm5vbmU7bWFyZ2luLXRvcDowO21heC13aWR0aDpub25lO3BhZGRpbmctcmlnaHQ6MH19I2xvZ297YmFja2dyb3VuZDp1cmwoLy93d3cuZ29vZ2xlLmNvbS9pbWFnZXMvbG9nb3MvZXJyb3JwYWdlL2Vycm9yX2xvZ28tMTUweDU0LnBuZykgbm8tcmVwZWF0O21hcmdpbi1sZWZ0Oi01cHh9QG1lZGlhIG9ubHkgc2NyZWVuIGFuZCAobWluLXJlc29sdXRpb246MTkyZHBpKXsjbG9nb3tiYWNrZ3JvdW5kOnVybCgvL3d3dy5nb29nbGUuY29tL2ltYWdlcy9sb2dvcy9lcnJvcnBhZ2UvZXJyb3JfbG9nby0xNTB4NTQtMngucG5nKSBuby1yZXBlYXQgMCUgMCUvMTAwJSAxMDAlOy1tb3otYm9yZGVyLWltYWdlOnVybCgvL3d3dy5nb29nbGUuY29tL2ltYWdlcy9sb2dvcy9lcnJvcnBhZ2UvZXJyb3JfbG9nby0xNTB4NTQtMngucG5nKSAwfX1AbWVkaWEgb25seSBzY3JlZW4gYW5kICgtd2Via2l0LW1pbi1kZXZpY2UtcGl4ZWwtcmF0aW86Mil7I2xvZ297YmFja2dyb3VuZDp1cmwoLy93d3cuZ29vZ2xlLmNvbS9pbWFnZXMvbG9nb3MvZXJyb3JwYWdlL2Vycm9yX2xvZ28tMTUweDU0LTJ4LnBuZykgbm8tcmVwZWF0Oy13ZWJraXQtYmFja2dyb3VuZC1zaXplOjEwMCUgMTAwJX19I2xvZ297ZGlzcGxheTppbmxpbmUtYmxvY2s7aGVpZ2h0OjU0cHg7d2lkdGg6MTUwcHh9CiAgPC9zdHlsZT4KICA8YSBocmVmPS8vd3d3Lmdvb2dsZS5jb20vPjxzcGFuIGlkPWxvZ28gYXJpYS1sYWJlbD1Hb29nbGU+PC9zcGFuPjwvYT4KICA8cD48Yj41MDAuPC9iPiA8aW5zPlRoYXTigJlzIGFuIGVycm9yLjwvaW5zPgogIDxwPiAgPGlucz5UaGF04oCZcyBhbGwgd2Uga25vdy48L2lucz4K",
              "ok": false,
              "headers": [
                [
                  "content-length",
                  "1461"
                ],
                [
                  "content-type",
                  "text/html; charset=utf-8"
                ]
              ],
              "status": 500,
              "status_text": ""
            }
          },
          "base_uri": "https://localhost:8080/",
          "height": 35
        },
        "outputId": "7424ab94-6a35-42ac-cba2-5da69c770124"
      },
      "source": [
        "#%reload_ext tensorboard\n",
        "#%tensorboard --logdir=./GoT_embeddings\n",
        "# Control TensorBoard display. If no port is provided, \n",
        "# the most recently launched TensorBoard is used\n",
        "from tensorboard import notebook\n",
        "notebook.list() # View open TensorBoard instances\n",
        "notebook.display(port=6006, height=1000) "
      ],
      "execution_count": 29,
      "outputs": [
        {
          "output_type": "stream",
          "text": [
            "No known TensorBoard instances running.\n"
          ],
          "name": "stdout"
        },
        {
          "output_type": "display_data",
          "data": {
            "text/html": [
              "\n",
              "    <div id=\"root\"></div>\n",
              "    <script>\n",
              "      (function() {\n",
              "        window.TENSORBOARD_ENV = window.TENSORBOARD_ENV || {};\n",
              "        window.TENSORBOARD_ENV[\"IN_COLAB\"] = true;\n",
              "        document.querySelector(\"base\").href = \"https://localhost:6006\";\n",
              "        function fixUpTensorboard(root) {\n",
              "          const tftb = root.querySelector(\"tf-tensorboard\");\n",
              "          // Disable the fragment manipulation behavior in Colab. Not\n",
              "          // only is the behavior not useful (as the iframe's location\n",
              "          // is not visible to the user), it causes TensorBoard's usage\n",
              "          // of `window.replace` to navigate away from the page and to\n",
              "          // the `localhost:<port>` URL specified by the base URI, which\n",
              "          // in turn causes the frame to (likely) crash.\n",
              "          tftb.removeAttribute(\"use-hash\");\n",
              "        }\n",
              "        function executeAllScripts(root) {\n",
              "          // When `script` elements are inserted into the DOM by\n",
              "          // assigning to an element's `innerHTML`, the scripts are not\n",
              "          // executed. Thus, we manually re-insert these scripts so that\n",
              "          // TensorBoard can initialize itself.\n",
              "          for (const script of root.querySelectorAll(\"script\")) {\n",
              "            const newScript = document.createElement(\"script\");\n",
              "            newScript.type = script.type;\n",
              "            newScript.textContent = script.textContent;\n",
              "            root.appendChild(newScript);\n",
              "            script.remove();\n",
              "          }\n",
              "        }\n",
              "        function setHeight(root, height) {\n",
              "          // We set the height dynamically after the TensorBoard UI has\n",
              "          // been initialized. This avoids an intermediate state in\n",
              "          // which the container plus the UI become taller than the\n",
              "          // final width and cause the Colab output frame to be\n",
              "          // permanently resized, eventually leading to an empty\n",
              "          // vertical gap below the TensorBoard UI. It's not clear\n",
              "          // exactly what causes this problematic intermediate state,\n",
              "          // but setting the height late seems to fix it.\n",
              "          root.style.height = `${height}px`;\n",
              "        }\n",
              "        const root = document.getElementById(\"root\");\n",
              "        fetch(\".\")\n",
              "          .then((x) => x.text())\n",
              "          .then((html) => void (root.innerHTML = html))\n",
              "          .then(() => fixUpTensorboard(root))\n",
              "          .then(() => executeAllScripts(root))\n",
              "          .then(() => setHeight(root, 1000));\n",
              "      })();\n",
              "    </script>\n",
              "  "
            ],
            "text/plain": [
              "<IPython.core.display.HTML object>"
            ]
          },
          "metadata": {
            "tags": []
          }
        }
      ]
    },
    {
      "cell_type": "markdown",
      "metadata": {
        "id": "QbXL9vwbnhm8"
      },
      "source": [
        "![GoT_tensoboard.png](data:image/png;base64,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)"
      ]
    },
    {
      "cell_type": "markdown",
      "metadata": {
        "id": "e-gS8P1LnsMf"
      },
      "source": [
        "Note, I spoke to Minh and showed him that Ampligraph continuously crashed my local python kernel and that TensorBoard cannot display projections on Google Colab. In the interest of not wasting lots of \"project time\" in fixing a small error he said I could submit just the image from the tutorial and would not be penalized by it, as it was preferrable to allocate the time elsewhere."
      ]
    },
    {
      "cell_type": "markdown",
      "metadata": {
        "id": "ynnb5FrDylzL"
      },
      "source": [
        "## Training a model (TransE)"
      ]
    },
    {
      "cell_type": "code",
      "metadata": {
        "colab": {
          "base_uri": "https://localhost:8080/"
        },
        "id": "Cng6A6aHrxhe",
        "outputId": "597505c6-1330-4082-ef07-79c8d18fa354"
      },
      "source": [
        "from ampligraph.latent_features import TransE\n",
        "\n",
        "model = TransE(batches_count=100, \n",
        "                seed=0, \n",
        "                epochs=200, \n",
        "                k=150, \n",
        "                eta=5,\n",
        "                optimizer='adam', \n",
        "                optimizer_params={'lr':1e-3},\n",
        "                loss='multiclass_nll', \n",
        "                regularizer='LP', \n",
        "                regularizer_params={'p':3, 'lambda':1e-5}, \n",
        "                verbose=True)\n",
        "\n",
        "positives_filter = X\n",
        "\n",
        "tf.logging.set_verbosity(tf.logging.ERROR)\n",
        "\n",
        "model.fit(X_train, early_stopping = False)\n",
        "\n",
        "ranks = evaluate_performance(X_test, \n",
        "                             model=model, \n",
        "                             filter_triples=positives_filter,   # Corruption strategy filter defined above \n",
        "                             use_default_protocol=True, # corrupt subj and obj separately while evaluating\n",
        "                             verbose=True)\n",
        "\n",
        "model_comparison['TransE'] = {}\n",
        "model_comparison['TransE']['MMR'] = mrr_score(ranks)\n",
        "print(\"MRR: %.2f\" % (model_comparison['TransE']['MMR']))\n",
        "\n",
        "model_comparison['TransE']['Hits@10'] = hits_at_n_score(ranks, n=10)\n",
        "print(\"Hits@10: %.2f\" % (model_comparison['TransE']['Hits@10']))\n",
        "model_comparison['TransE']['Hits@3'] = hits_at_n_score(ranks, n=3)\n",
        "print(\"Hits@3: %.2f\" % (model_comparison['TransE']['Hits@3']))\n",
        "model_comparison['TransE']['Hits@1'] = hits_at_n_score(ranks, n=1)\n",
        "print(\"Hits@1: %.2f\" % (model_comparison['TransE']['Hits@1']))"
      ],
      "execution_count": 30,
      "outputs": [
        {
          "output_type": "stream",
          "text": [
            "Average Loss:   0.017881: 100%|██████████| 200/200 [01:49<00:00,  1.82epoch/s]"
          ],
          "name": "stderr"
        },
        {
          "output_type": "stream",
          "text": [
            "WARNING - DeprecationWarning: use_default_protocol will be removed in future. Please use corrupt_side argument instead.\n"
          ],
          "name": "stdout"
        },
        {
          "output_type": "stream",
          "text": [
            "\n",
            "100%|██████████| 100/100 [00:00<00:00, 178.01it/s]\n"
          ],
          "name": "stderr"
        },
        {
          "output_type": "stream",
          "text": [
            "MRR: 0.20\n",
            "Hits@10: 0.36\n",
            "Hits@3: 0.24\n",
            "Hits@1: 0.12\n"
          ],
          "name": "stdout"
        }
      ]
    },
    {
      "cell_type": "markdown",
      "metadata": {
        "id": "5bIlqHXLzUDo"
      },
      "source": [
        "## Training a model (DistMult)"
      ]
    },
    {
      "cell_type": "code",
      "metadata": {
        "colab": {
          "base_uri": "https://localhost:8080/"
        },
        "id": "Mh9uzSnSzSX8",
        "outputId": "a5707fb5-9ecc-4185-a6ac-6326b247f98d"
      },
      "source": [
        "from ampligraph.latent_features import DistMult\n",
        "\n",
        "model = DistMult(batches_count=100, \n",
        "                seed=0, \n",
        "                epochs=200, \n",
        "                k=150, \n",
        "                eta=5,\n",
        "                optimizer='adam', \n",
        "                optimizer_params={'lr':1e-3},\n",
        "                loss='multiclass_nll', \n",
        "                regularizer='LP', \n",
        "                regularizer_params={'p':3, 'lambda':1e-5}, \n",
        "                verbose=True)\n",
        "\n",
        "positives_filter = X\n",
        "\n",
        "tf.logging.set_verbosity(tf.logging.ERROR)\n",
        "\n",
        "model.fit(X_train, early_stopping = False)\n",
        "\n",
        "ranks = evaluate_performance(X_test, \n",
        "                             model=model, \n",
        "                             filter_triples=positives_filter,   # Corruption strategy filter defined above \n",
        "                             use_default_protocol=True, # corrupt subj and obj separately while evaluating\n",
        "                             verbose=True)\n",
        "\n",
        "model_comparison['DistMult'] = {}\n",
        "model_comparison['DistMult']['MMR'] = mrr_score(ranks)\n",
        "print(\"MRR: %.2f\" % (model_comparison['DistMult']['MMR']))\n",
        "\n",
        "model_comparison['DistMult']['Hits@10'] = hits_at_n_score(ranks, n=10)\n",
        "print(\"Hits@10: %.2f\" % (model_comparison['DistMult']['Hits@10']))\n",
        "model_comparison['DistMult']['Hits@3'] = hits_at_n_score(ranks, n=3)\n",
        "print(\"Hits@3: %.2f\" % (model_comparison['DistMult']['Hits@3']))\n",
        "model_comparison['DistMult']['Hits@1'] = hits_at_n_score(ranks, n=1)\n",
        "print(\"Hits@1: %.2f\" % (model_comparison['DistMult']['Hits@1']))"
      ],
      "execution_count": 31,
      "outputs": [
        {
          "output_type": "stream",
          "text": [
            "Average Loss:   0.016550: 100%|██████████| 200/200 [01:54<00:00,  1.74epoch/s]"
          ],
          "name": "stderr"
        },
        {
          "output_type": "stream",
          "text": [
            "WARNING - DeprecationWarning: use_default_protocol will be removed in future. Please use corrupt_side argument instead.\n"
          ],
          "name": "stdout"
        },
        {
          "output_type": "stream",
          "text": [
            "\n",
            "100%|██████████| 100/100 [00:00<00:00, 172.32it/s]\n"
          ],
          "name": "stderr"
        },
        {
          "output_type": "stream",
          "text": [
            "MRR: 0.39\n",
            "Hits@10: 0.54\n",
            "Hits@3: 0.43\n",
            "Hits@1: 0.31\n"
          ],
          "name": "stdout"
        }
      ]
    },
    {
      "cell_type": "code",
      "metadata": {
        "colab": {
          "base_uri": "https://localhost:8080/",
          "height": 168
        },
        "id": "hxAVmvzPPWGy",
        "outputId": "e33eeded-d6ab-4e0c-e3a7-8c9663e80894"
      },
      "source": [
        "import pandas as pd\n",
        "results = pd.DataFrame(model_comparison)\n",
        "results"
      ],
      "execution_count": 32,
      "outputs": [
        {
          "output_type": "execute_result",
          "data": {
            "text/html": [
              "<div>\n",
              "<style scoped>\n",
              "    .dataframe tbody tr th:only-of-type {\n",
              "        vertical-align: middle;\n",
              "    }\n",
              "\n",
              "    .dataframe tbody tr th {\n",
              "        vertical-align: top;\n",
              "    }\n",
              "\n",
              "    .dataframe thead th {\n",
              "        text-align: right;\n",
              "    }\n",
              "</style>\n",
              "<table border=\"1\" class=\"dataframe\">\n",
              "  <thead>\n",
              "    <tr style=\"text-align: right;\">\n",
              "      <th></th>\n",
              "      <th>ComplEx</th>\n",
              "      <th>TransE</th>\n",
              "      <th>DistMult</th>\n",
              "    </tr>\n",
              "  </thead>\n",
              "  <tbody>\n",
              "    <tr>\n",
              "      <th>MMR</th>\n",
              "      <td>0.413934</td>\n",
              "      <td>0.199833</td>\n",
              "      <td>0.393764</td>\n",
              "    </tr>\n",
              "    <tr>\n",
              "      <th>Hits@10</th>\n",
              "      <td>0.550000</td>\n",
              "      <td>0.365000</td>\n",
              "      <td>0.540000</td>\n",
              "    </tr>\n",
              "    <tr>\n",
              "      <th>Hits@3</th>\n",
              "      <td>0.445000</td>\n",
              "      <td>0.240000</td>\n",
              "      <td>0.435000</td>\n",
              "    </tr>\n",
              "    <tr>\n",
              "      <th>Hits@1</th>\n",
              "      <td>0.340000</td>\n",
              "      <td>0.120000</td>\n",
              "      <td>0.310000</td>\n",
              "    </tr>\n",
              "  </tbody>\n",
              "</table>\n",
              "</div>"
            ],
            "text/plain": [
              "          ComplEx    TransE  DistMult\n",
              "MMR      0.413934  0.199833  0.393764\n",
              "Hits@10  0.550000  0.365000  0.540000\n",
              "Hits@3   0.445000  0.240000  0.435000\n",
              "Hits@1   0.340000  0.120000  0.310000"
            ]
          },
          "metadata": {
            "tags": []
          },
          "execution_count": 32
        }
      ]
    },
    {
      "cell_type": "markdown",
      "metadata": {
        "id": "lUFlxmfyIzpF"
      },
      "source": [
        "<br> #1 Model: ComplEx\n",
        "<br> #2 Model: DistMult\n",
        "<br> #3 Model: TransE"
      ]
    }
  ]
}